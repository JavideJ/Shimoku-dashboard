{
 "cells": [
  {
   "cell_type": "markdown",
   "id": "f58d4632-e991-42dd-b5ad-07d986959891",
   "metadata": {},
   "source": [
    "![shimoku.png](img/shimoku.png)"
   ]
  },
  {
   "cell_type": "markdown",
   "id": "4205456e-6c4f-4b38-911a-4fa500bea67d",
   "metadata": {},
   "source": [
    "The aim of this project is to use the Shimoku interface to create a dashboard that can answer these three questions related to our movies and shows datasets:<br>\n",
    "1. How have genre trends evolved over the years?<br>\n",
    "2. How does each platform manage movies?<br>\n",
    "3. What impact do actors or directors have on the evaluation of movies?<br>"
   ]
  },
  {
   "cell_type": "code",
   "execution_count": 4,
   "id": "f7531d66-425b-4610-a530-62e567c80061",
   "metadata": {},
   "outputs": [],
   "source": [
    "from os import getenv\n",
    "import shimoku_api_python as Shimoku\n",
    "\n",
    "import pandas as pd\n",
    "import os\n",
    "from collections import Counter\n",
    "\n",
    "from sklearn.preprocessing import LabelEncoder\n",
    "from sklearn.ensemble import RandomForestRegressor\n",
    "from sklearn.metrics import r2_score, mean_squared_error\n",
    "from sklearn.model_selection import train_test_split, GridSearchCV\n",
    "\n",
    "import utils"
   ]
  },
  {
   "cell_type": "markdown",
   "id": "bdd8079c-4779-430a-b5a3-8426ba3a30e5",
   "metadata": {},
   "source": [
    "## Let´s quicly take a look at some info about the datasets"
   ]
  },
  {
   "cell_type": "code",
   "execution_count": 7,
   "id": "071a132f-ef41-4d0d-9a99-25e450fa7160",
   "metadata": {
    "tags": []
   },
   "outputs": [
    {
     "data": {
      "text/html": [
       "<div>\n",
       "<style scoped>\n",
       "    .dataframe tbody tr th:only-of-type {\n",
       "        vertical-align: middle;\n",
       "    }\n",
       "\n",
       "    .dataframe tbody tr th {\n",
       "        vertical-align: top;\n",
       "    }\n",
       "\n",
       "    .dataframe thead th {\n",
       "        text-align: right;\n",
       "    }\n",
       "</style>\n",
       "<table border=\"1\" class=\"dataframe\">\n",
       "  <thead>\n",
       "    <tr style=\"text-align: right;\">\n",
       "      <th></th>\n",
       "      <th>person_id</th>\n",
       "      <th>id</th>\n",
       "      <th>name</th>\n",
       "      <th>character</th>\n",
       "      <th>role</th>\n",
       "    </tr>\n",
       "  </thead>\n",
       "  <tbody>\n",
       "    <tr>\n",
       "      <th>0</th>\n",
       "      <td>25020</td>\n",
       "      <td>tm87233</td>\n",
       "      <td>James Stewart</td>\n",
       "      <td>George Bailey</td>\n",
       "      <td>ACTOR</td>\n",
       "    </tr>\n",
       "    <tr>\n",
       "      <th>1</th>\n",
       "      <td>26190</td>\n",
       "      <td>tm87233</td>\n",
       "      <td>Donna Reed</td>\n",
       "      <td>Mary Hatch</td>\n",
       "      <td>ACTOR</td>\n",
       "    </tr>\n",
       "    <tr>\n",
       "      <th>2</th>\n",
       "      <td>25653</td>\n",
       "      <td>tm87233</td>\n",
       "      <td>Lionel Barrymore</td>\n",
       "      <td>Mr. Potter</td>\n",
       "      <td>ACTOR</td>\n",
       "    </tr>\n",
       "    <tr>\n",
       "      <th>3</th>\n",
       "      <td>13301</td>\n",
       "      <td>tm87233</td>\n",
       "      <td>Thomas Mitchell</td>\n",
       "      <td>Uncle Billy</td>\n",
       "      <td>ACTOR</td>\n",
       "    </tr>\n",
       "    <tr>\n",
       "      <th>4</th>\n",
       "      <td>34171</td>\n",
       "      <td>tm87233</td>\n",
       "      <td>Henry Travers</td>\n",
       "      <td>Clarence</td>\n",
       "      <td>ACTOR</td>\n",
       "    </tr>\n",
       "  </tbody>\n",
       "</table>\n",
       "</div>"
      ],
      "text/plain": [
       "   person_id       id              name      character   role\n",
       "0      25020  tm87233     James Stewart  George Bailey  ACTOR\n",
       "1      26190  tm87233        Donna Reed     Mary Hatch  ACTOR\n",
       "2      25653  tm87233  Lionel Barrymore     Mr. Potter  ACTOR\n",
       "3      13301  tm87233   Thomas Mitchell    Uncle Billy  ACTOR\n",
       "4      34171  tm87233     Henry Travers       Clarence  ACTOR"
      ]
     },
     "execution_count": 7,
     "metadata": {},
     "output_type": "execute_result"
    }
   ],
   "source": [
    "# Set working directory and import datasets\n",
    "os.chdir(r'your_path/repo/Shimoku/')\n",
    "\n",
    "df_credits = pd.read_csv('data/all_credits.csv',\n",
    "                         index_col=0)\n",
    "df_credits.head()"
   ]
  },
  {
   "cell_type": "code",
   "execution_count": 8,
   "id": "43a712fe-29c9-4a8c-8243-34a321a59ece",
   "metadata": {},
   "outputs": [
    {
     "name": "stdout",
     "output_type": "stream",
     "text": [
      "<class 'pandas.core.frame.DataFrame'>\n",
      "Int64Index: 356521 entries, 0 to 35286\n",
      "Data columns (total 5 columns):\n",
      " #   Column     Non-Null Count   Dtype \n",
      "---  ------     --------------   ----- \n",
      " 0   person_id  356521 non-null  int64 \n",
      " 1   id         356521 non-null  object\n",
      " 2   name       356521 non-null  object\n",
      " 3   character  319081 non-null  object\n",
      " 4   role       356521 non-null  object\n",
      "dtypes: int64(1), object(4)\n",
      "memory usage: 16.3+ MB\n"
     ]
    }
   ],
   "source": [
    "df_credits.info()"
   ]
  },
  {
   "cell_type": "code",
   "execution_count": 9,
   "id": "98bdbfe8-f383-4f12-9651-10942585c798",
   "metadata": {},
   "outputs": [
    {
     "data": {
      "text/plain": [
       "person_id     0.0\n",
       "id            0.0\n",
       "name          0.0\n",
       "character    11.0\n",
       "role          0.0\n",
       "dtype: float64"
      ]
     },
     "execution_count": 9,
     "metadata": {},
     "output_type": "execute_result"
    }
   ],
   "source": [
    "df_nulls_percentage = round(df_credits.isnull().sum() / len(df_credits) * 100)\n",
    "df_nulls_percentage"
   ]
  },
  {
   "cell_type": "markdown",
   "id": "50b36431-3355-498f-8470-bb0e8bb8d8cf",
   "metadata": {},
   "source": [
    "So, 11% of character names are nulls, let´s not forget that when creating charts"
   ]
  },
  {
   "cell_type": "code",
   "execution_count": 10,
   "id": "e4a1ea25-f4ff-481f-a18b-e26bb4e2a64e",
   "metadata": {},
   "outputs": [
    {
     "data": {
      "text/html": [
       "<div>\n",
       "<style scoped>\n",
       "    .dataframe tbody tr th:only-of-type {\n",
       "        vertical-align: middle;\n",
       "    }\n",
       "\n",
       "    .dataframe tbody tr th {\n",
       "        vertical-align: top;\n",
       "    }\n",
       "\n",
       "    .dataframe thead th {\n",
       "        text-align: right;\n",
       "    }\n",
       "</style>\n",
       "<table border=\"1\" class=\"dataframe\">\n",
       "  <thead>\n",
       "    <tr style=\"text-align: right;\">\n",
       "      <th></th>\n",
       "      <th>id</th>\n",
       "      <th>title</th>\n",
       "      <th>type</th>\n",
       "      <th>description</th>\n",
       "      <th>release_year</th>\n",
       "      <th>age_certification</th>\n",
       "      <th>runtime</th>\n",
       "      <th>genres</th>\n",
       "      <th>production_countries</th>\n",
       "      <th>seasons</th>\n",
       "      <th>imdb_id</th>\n",
       "      <th>imdb_score</th>\n",
       "      <th>imdb_votes</th>\n",
       "      <th>tmdb_popularity</th>\n",
       "      <th>tmdb_score</th>\n",
       "      <th>streaming</th>\n",
       "    </tr>\n",
       "  </thead>\n",
       "  <tbody>\n",
       "    <tr>\n",
       "      <th>0</th>\n",
       "      <td>tm87233</td>\n",
       "      <td>It's a Wonderful Life</td>\n",
       "      <td>MOVIE</td>\n",
       "      <td>A holiday favourite for generations...  George...</td>\n",
       "      <td>1946</td>\n",
       "      <td>PG</td>\n",
       "      <td>130</td>\n",
       "      <td>['drama', 'romance', 'comedy', 'family', 'fant...</td>\n",
       "      <td>['US']</td>\n",
       "      <td>NaN</td>\n",
       "      <td>tt0038650</td>\n",
       "      <td>8.6</td>\n",
       "      <td>470551.0</td>\n",
       "      <td>27.860</td>\n",
       "      <td>8.259</td>\n",
       "      <td>amazon</td>\n",
       "    </tr>\n",
       "    <tr>\n",
       "      <th>1</th>\n",
       "      <td>ts20945</td>\n",
       "      <td>The Three Stooges</td>\n",
       "      <td>SHOW</td>\n",
       "      <td>The Three Stooges were an American vaudeville ...</td>\n",
       "      <td>1934</td>\n",
       "      <td>TV-PG</td>\n",
       "      <td>19</td>\n",
       "      <td>['comedy', 'family']</td>\n",
       "      <td>['US']</td>\n",
       "      <td>26.0</td>\n",
       "      <td>tt0850645</td>\n",
       "      <td>8.5</td>\n",
       "      <td>1172.0</td>\n",
       "      <td>15.424</td>\n",
       "      <td>7.600</td>\n",
       "      <td>amazon</td>\n",
       "    </tr>\n",
       "    <tr>\n",
       "      <th>2</th>\n",
       "      <td>tm19248</td>\n",
       "      <td>The General</td>\n",
       "      <td>MOVIE</td>\n",
       "      <td>During America’s Civil War, Union spies steal ...</td>\n",
       "      <td>1926</td>\n",
       "      <td>NaN</td>\n",
       "      <td>107</td>\n",
       "      <td>['comedy', 'drama', 'action', 'war', 'western'...</td>\n",
       "      <td>['US']</td>\n",
       "      <td>NaN</td>\n",
       "      <td>tt0017925</td>\n",
       "      <td>8.1</td>\n",
       "      <td>93558.0</td>\n",
       "      <td>10.345</td>\n",
       "      <td>8.014</td>\n",
       "      <td>amazon</td>\n",
       "    </tr>\n",
       "    <tr>\n",
       "      <th>3</th>\n",
       "      <td>tm82253</td>\n",
       "      <td>The Best Years of Our Lives</td>\n",
       "      <td>MOVIE</td>\n",
       "      <td>It's the hope that sustains the spirit of ever...</td>\n",
       "      <td>1946</td>\n",
       "      <td>NaN</td>\n",
       "      <td>172</td>\n",
       "      <td>['drama', 'romance', 'war']</td>\n",
       "      <td>['US']</td>\n",
       "      <td>NaN</td>\n",
       "      <td>tt0038351</td>\n",
       "      <td>8.1</td>\n",
       "      <td>66794.0</td>\n",
       "      <td>15.819</td>\n",
       "      <td>7.843</td>\n",
       "      <td>amazon</td>\n",
       "    </tr>\n",
       "    <tr>\n",
       "      <th>4</th>\n",
       "      <td>tm38206</td>\n",
       "      <td>Whoopee!</td>\n",
       "      <td>MOVIE</td>\n",
       "      <td>Western sheriff Bob Wells is preparing to marr...</td>\n",
       "      <td>1930</td>\n",
       "      <td>NaN</td>\n",
       "      <td>93</td>\n",
       "      <td>['comedy', 'romance', 'western']</td>\n",
       "      <td>['US']</td>\n",
       "      <td>NaN</td>\n",
       "      <td>tt0021549</td>\n",
       "      <td>6.4</td>\n",
       "      <td>1103.0</td>\n",
       "      <td>1.174</td>\n",
       "      <td>7.000</td>\n",
       "      <td>amazon</td>\n",
       "    </tr>\n",
       "  </tbody>\n",
       "</table>\n",
       "</div>"
      ],
      "text/plain": [
       "        id                        title   type  \\\n",
       "0  tm87233        It's a Wonderful Life  MOVIE   \n",
       "1  ts20945            The Three Stooges   SHOW   \n",
       "2  tm19248                  The General  MOVIE   \n",
       "3  tm82253  The Best Years of Our Lives  MOVIE   \n",
       "4  tm38206                     Whoopee!  MOVIE   \n",
       "\n",
       "                                         description  release_year  \\\n",
       "0  A holiday favourite for generations...  George...          1946   \n",
       "1  The Three Stooges were an American vaudeville ...          1934   \n",
       "2  During America’s Civil War, Union spies steal ...          1926   \n",
       "3  It's the hope that sustains the spirit of ever...          1946   \n",
       "4  Western sheriff Bob Wells is preparing to marr...          1930   \n",
       "\n",
       "  age_certification  runtime  \\\n",
       "0                PG      130   \n",
       "1             TV-PG       19   \n",
       "2               NaN      107   \n",
       "3               NaN      172   \n",
       "4               NaN       93   \n",
       "\n",
       "                                              genres production_countries  \\\n",
       "0  ['drama', 'romance', 'comedy', 'family', 'fant...               ['US']   \n",
       "1                               ['comedy', 'family']               ['US']   \n",
       "2  ['comedy', 'drama', 'action', 'war', 'western'...               ['US']   \n",
       "3                        ['drama', 'romance', 'war']               ['US']   \n",
       "4                   ['comedy', 'romance', 'western']               ['US']   \n",
       "\n",
       "   seasons    imdb_id  imdb_score  imdb_votes  tmdb_popularity  tmdb_score  \\\n",
       "0      NaN  tt0038650         8.6    470551.0           27.860       8.259   \n",
       "1     26.0  tt0850645         8.5      1172.0           15.424       7.600   \n",
       "2      NaN  tt0017925         8.1     93558.0           10.345       8.014   \n",
       "3      NaN  tt0038351         8.1     66794.0           15.819       7.843   \n",
       "4      NaN  tt0021549         6.4      1103.0            1.174       7.000   \n",
       "\n",
       "  streaming  \n",
       "0    amazon  \n",
       "1    amazon  \n",
       "2    amazon  \n",
       "3    amazon  \n",
       "4    amazon  "
      ]
     },
     "execution_count": 10,
     "metadata": {},
     "output_type": "execute_result"
    }
   ],
   "source": [
    "df_titles = pd.read_csv('data/all_titles.csv',\n",
    "                        index_col=0)\n",
    "df_titles.head()"
   ]
  },
  {
   "cell_type": "code",
   "execution_count": 11,
   "id": "8c562d79-20ad-470a-86c7-1c683bcd8445",
   "metadata": {},
   "outputs": [
    {
     "name": "stdout",
     "output_type": "stream",
     "text": [
      "<class 'pandas.core.frame.DataFrame'>\n",
      "Int64Index: 24736 entries, 0 to 2631\n",
      "Data columns (total 16 columns):\n",
      " #   Column                Non-Null Count  Dtype  \n",
      "---  ------                --------------  -----  \n",
      " 0   id                    24736 non-null  object \n",
      " 1   title                 24736 non-null  object \n",
      " 2   type                  24736 non-null  object \n",
      " 3   description           24544 non-null  object \n",
      " 4   release_year          24736 non-null  int64  \n",
      " 5   age_certification     12423 non-null  object \n",
      " 6   runtime               24736 non-null  int64  \n",
      " 7   genres                24736 non-null  object \n",
      " 8   production_countries  24736 non-null  object \n",
      " 9   seasons               6584 non-null   float64\n",
      " 10  imdb_id               22787 non-null  object \n",
      " 11  imdb_score            22123 non-null  float64\n",
      " 12  imdb_votes            22060 non-null  float64\n",
      " 13  tmdb_popularity       24009 non-null  float64\n",
      " 14  tmdb_score            21914 non-null  float64\n",
      " 15  streaming             24736 non-null  object \n",
      "dtypes: float64(5), int64(2), object(9)\n",
      "memory usage: 3.2+ MB\n"
     ]
    }
   ],
   "source": [
    "df_titles.info()"
   ]
  },
  {
   "cell_type": "code",
   "execution_count": 12,
   "id": "2bb0c97c-cf73-4ddc-a2a7-c9d34cf42115",
   "metadata": {},
   "outputs": [
    {
     "data": {
      "text/plain": [
       "id                       0.0\n",
       "title                    0.0\n",
       "type                     0.0\n",
       "description              1.0\n",
       "release_year             0.0\n",
       "age_certification       50.0\n",
       "runtime                  0.0\n",
       "genres                   0.0\n",
       "production_countries     0.0\n",
       "seasons                 73.0\n",
       "imdb_id                  8.0\n",
       "imdb_score              11.0\n",
       "imdb_votes              11.0\n",
       "tmdb_popularity          3.0\n",
       "tmdb_score              11.0\n",
       "streaming                0.0\n",
       "dtype: float64"
      ]
     },
     "execution_count": 12,
     "metadata": {},
     "output_type": "execute_result"
    }
   ],
   "source": [
    "titles_nulls_percentage = round(df_titles.isnull().sum() / len(df_titles) * 100)\n",
    "titles_nulls_percentage"
   ]
  },
  {
   "cell_type": "markdown",
   "id": "caa62b4f-d32a-4db4-9acb-10e10ce61cb0",
   "metadata": {},
   "source": [
    "Many missing information on this dataset"
   ]
  },
  {
   "cell_type": "code",
   "execution_count": 13,
   "id": "7ac64c3f-4c1b-4716-a849-defb48f8e461",
   "metadata": {},
   "outputs": [
    {
     "data": {
      "text/plain": [
       "\"['drama', 'romance', 'comedy', 'family', 'fantasy']\""
      ]
     },
     "execution_count": 13,
     "metadata": {},
     "output_type": "execute_result"
    }
   ],
   "source": [
    "df_titles[['genres']].iloc[0][0]"
   ]
  },
  {
   "cell_type": "code",
   "execution_count": 14,
   "id": "70999c72-1a73-4106-b773-6db622e0cf25",
   "metadata": {},
   "outputs": [],
   "source": [
    "# I´ve noticed the genres and production_countries column type it´s a bit weird so let´s fix it first\n",
    "df_titles[['genres', 'production_countries']] = df_titles[['genres', 'production_countries']].applymap(lambda x: x.replace('[','').replace(']', '').replace(\"'\", '').replace(' ', '').split(','))"
   ]
  },
  {
   "cell_type": "markdown",
   "id": "dff53de3-4734-4f72-a237-e37c337ce3bd",
   "metadata": {},
   "source": [
    "## Connect to our Shimoku account"
   ]
  },
  {
   "cell_type": "code",
   "execution_count": 10,
   "id": "cfea82e1-0be3-4289-9316-9a453c982aec",
   "metadata": {
    "tags": []
   },
   "outputs": [
    {
     "name": "stdout",
     "output_type": "stream",
     "text": [
      "2023-09-06 20:56 | INFO | Starting execution: \u001b[4mset_workspace\u001b[0m\n",
      "2023-09-06 20:56 | INFO | Finished execution: \u001b[4mset_workspace\u001b[0m, elapsed time: 1457.84 ms\n"
     ]
    }
   ],
   "source": [
    "access_token = getenv('SHIMOKU_TOKEN')\n",
    "universe_id = getenv('UNIVERSE_ID')\n",
    "workspace_id = getenv('WORKSPACE_ID')\n",
    "\n",
    "s = Shimoku.Client(\n",
    "    access_token=access_token,\n",
    "    universe_id=universe_id,\n",
    "    verbosity='INFO',\n",
    ")\n",
    "\n",
    "s.set_workspace(uuid=workspace_id)"
   ]
  },
  {
   "cell_type": "markdown",
   "id": "f55e5937-dd87-4988-8d4a-bf9e28f2d751",
   "metadata": {},
   "source": [
    "## 1. How have genre trends evolved over the years?"
   ]
  },
  {
   "cell_type": "markdown",
   "id": "82b1b15e-2db9-408c-be9a-ff8a66ddd9b8",
   "metadata": {},
   "source": [
    "Two area charts will be created: one for movies and one for shows, so we´ll be able to see how genres have evolved over the years on each one.<br>\n",
    "I have noted that, at least on this chart, only 8 different features can be compared, so let´s see first wich are the most important genres and let´s plot them."
   ]
  },
  {
   "cell_type": "code",
   "execution_count": 11,
   "id": "b0b3e122-d5a0-496a-a9ac-11e22fa5c9b6",
   "metadata": {},
   "outputs": [
    {
     "name": "stdout",
     "output_type": "stream",
     "text": [
      "Main movie genders: \n",
      " ['drama', 'comedy', 'thriller', 'action', 'romance', 'crime', 'horror', 'documentation'] \n",
      "Main show genders: \n",
      " ['drama', 'comedy', 'animation', 'action', 'scifi', 'documentation', 'family', 'crime']\n"
     ]
    }
   ],
   "source": [
    "# Filter by type\n",
    "df_movies = df_titles[df_titles['type'] == 'MOVIE'].reset_index()\n",
    "df_shows= df_titles[df_titles['type'] == 'SHOW'].reset_index()\n",
    "\n",
    "# Get the 8 most common genres\n",
    "main_movie_genres, main_show_genres = utils.common_genres(df_movies, df_shows)\n",
    "\n",
    "print('Main movie genders: \\n', main_movie_genres, '\\nMain show genders: \\n', main_show_genres)"
   ]
  },
  {
   "cell_type": "markdown",
   "id": "1243cba7-80d6-4596-a57d-bd71b54c937c",
   "metadata": {},
   "source": [
    "### Movie & Show Genders data"
   ]
  },
  {
   "cell_type": "code",
   "execution_count": 12,
   "id": "3f62dee2-3e54-46bf-8cee-8a64210d0c51",
   "metadata": {},
   "outputs": [
    {
     "name": "stdout",
     "output_type": "stream",
     "text": [
      "Movie dictionary example:\n",
      " {'drama': 0.22, 'thriller': 0.14, 'documentation': 0.15, 'romance': 0.09, 'comedy': 0.21, 'horror': 0.02, 'crime': 0.07, 'action': 0.1, 'year': '2023'}\n"
     ]
    }
   ],
   "source": [
    "# Get a list of dictionaries with the genres percentage per year\n",
    "movie_genres_data = utils.get_movie_genres_data(df_movies, main_movie_genres)\n",
    "show_genres_data = utils.get_show_genres_data(df_shows, main_show_genres)\n",
    "\n",
    "print('Movie dictionary example:\\n', movie_genres_data[-1])"
   ]
  },
  {
   "cell_type": "markdown",
   "id": "6a7b5acf-dea2-403f-9de3-b7ea4f391a76",
   "metadata": {
    "tags": []
   },
   "source": [
    "### Upload Charts"
   ]
  },
  {
   "cell_type": "markdown",
   "id": "db766723-b5ac-44ae-a826-a91382fdb641",
   "metadata": {},
   "source": [
    "So the design for this part will consist on a board called Genres, with a menu called 'Over the years'.<br>\n",
    "Inside it, there will be two tabs: one with a stacked area chart with movie genres evolution and the other for shows"
   ]
  },
  {
   "cell_type": "code",
   "execution_count": 13,
   "id": "63859b7e-79c6-4acc-b558-6cc70780f950",
   "metadata": {
    "collapsed": true,
    "jupyter": {
     "outputs_hidden": true
    },
    "tags": []
   },
   "outputs": [
    {
     "name": "stdout",
     "output_type": "stream",
     "text": [
      "2023-09-03 13:30 | INFO | Starting execution: \u001b[4mset_board\u001b[0m\n",
      "2023-09-03 13:30 | INFO | Retrieved board Genres with id db826b42-086a-4478-9960-f756ad7decfb\n",
      "2023-09-03 13:30 | INFO | Finished execution: \u001b[4mset_board\u001b[0m, elapsed time: 720.48 ms\n",
      "2023-09-03 13:30 | INFO | Starting execution: \u001b[4mset_menu_path\u001b[0m\n",
      "2023-09-03 13:30 | INFO | Created menu path Over the years with id b4e2b508-7317-493e-b1fa-b3b1c3bd4870\n",
      "2023-09-03 13:30 | INFO | Menu path Over the years added to board Genres\n",
      "2023-09-03 13:30 | INFO | Finished execution: \u001b[4mset_menu_path\u001b[0m, elapsed time: 4034.54 ms\n",
      "2023-09-03 13:30 | INFO | Starting execution: \u001b[4mset_tabs_index\u001b[0m\n",
      "2023-09-03 13:30 | INFO | Created tabs group Gender Charts with id cb61ac87-2335-4e9b-a0e7-04d2eb302b2a\n",
      "2023-09-03 13:30 | INFO | Finished execution: \u001b[4mset_tabs_index\u001b[0m, elapsed time: 2112.82 ms\n",
      "2023-09-03 13:30 | INFO | Updated tab groups and modals\n",
      "2023-09-03 13:30 | INFO | Starting execution: \u001b[4mstacked_area_chart\u001b[0m\n",
      "2023-09-03 13:30 | INFO | Created EChart with id 05bedc2d-1a72-4818-9f51-d56729612bb5\n",
      "2023-09-03 13:30 | INFO | Created data set with id c00a4002-192b-4186-a0d2-a2c748680f19 and name 05bedc2d-1a72-4818-9f51-d56729612bb5\n",
      "2023-09-03 13:30 | INFO | Deleted 0 component data set links from component at Gender Charts_Movies_0\n",
      "2023-09-03 13:30 | INFO | Created 9 component data set links for component Gender Charts_Movies_0\n",
      "2023-09-03 13:31 | INFO | Updated EChart at Gender Charts_Movies_0\n",
      "2023-09-03 13:31 | INFO | Included chart Gender Charts_Movies_0 in tabs group Gender Charts\n",
      "2023-09-03 13:31 | INFO | Finished execution: \u001b[4mstacked_area_chart\u001b[0m, elapsed time: 10679.76 ms\n",
      "2023-09-03 13:31 | INFO | Updated tab groups and modals\n",
      "2023-09-03 13:31 | INFO | Starting execution: \u001b[4mchange_current_tab\u001b[0m\n",
      "2023-09-03 13:31 | INFO | Finished execution: \u001b[4mchange_current_tab\u001b[0m, elapsed time: 0.45 ms\n",
      "2023-09-03 13:31 | INFO | Starting execution: \u001b[4mstacked_area_chart\u001b[0m\n",
      "2023-09-03 13:31 | INFO | Created EChart with id b48419a7-2153-44b8-81f8-b30a7655fa38\n",
      "2023-09-03 13:31 | INFO | Created data set with id 7cab0ba0-b212-49c3-a262-786efb840e0d and name b48419a7-2153-44b8-81f8-b30a7655fa38\n",
      "2023-09-03 13:31 | INFO | Deleted 0 component data set links from component at Gender Charts_Shows_0\n",
      "2023-09-03 13:31 | INFO | Created 9 component data set links for component Gender Charts_Shows_0\n",
      "2023-09-03 13:31 | INFO | Updated EChart at Gender Charts_Shows_0\n",
      "2023-09-03 13:31 | INFO | Included chart Gender Charts_Shows_0 in tabs group Gender Charts\n",
      "2023-09-03 13:31 | INFO | Finished execution: \u001b[4mstacked_area_chart\u001b[0m, elapsed time: 6319.81 ms\n",
      "2023-09-03 13:31 | INFO | Updated tab groups and modals\n",
      "2023-09-03 13:31 | INFO | Starting execution: \u001b[4mpop_out_of_tabs_group\u001b[0m\n",
      "2023-09-03 13:31 | INFO | Finished execution: \u001b[4mpop_out_of_tabs_group\u001b[0m, elapsed time: 0.24 ms\n"
     ]
    }
   ],
   "source": [
    "# Set board name and menu path\n",
    "s.set_board('Genres')\n",
    "s.set_menu_path('Over the years',)\n",
    "\n",
    "# Then, organize the charts on two tabs called 'Movies' and 'Shows'\n",
    "s.plt.set_tabs_index(('Gender Charts', 'Movies'), order=0)\n",
    "\n",
    "s.plt.stacked_area(\n",
    "    data=movie_genres_data, x=\"year\", order=0,\n",
    "    title='Movie genres over the years',\n",
    "    x_axis_name='Years',\n",
    "    y_axis_name='Genres %'\n",
    ")\n",
    "\n",
    "s.plt.change_current_tab('Shows')\n",
    "s.plt.stacked_area(\n",
    "    data=show_genres_data, x=\"year\", order=0,\n",
    "    title='Show genres over the years',\n",
    "    x_axis_name='Years',\n",
    "    y_axis_name='Genres %'\n",
    ")\n",
    "\n",
    "s.plt.pop_out_of_tabs_group()"
   ]
  },
  {
   "cell_type": "markdown",
   "id": "337e7a40-03de-42b7-a717-4a197da0bac4",
   "metadata": {},
   "source": [
    "And this is the result:"
   ]
  },
  {
   "cell_type": "markdown",
   "id": "2d2851e7-568c-4b53-9789-746161342da2",
   "metadata": {},
   "source": [
    "![genres.png](img/movie_genres.png)\n",
    "![genres.png](img/show_genres.png)"
   ]
  },
  {
   "cell_type": "markdown",
   "id": "5d482b7d-6386-4257-86a4-63b4b39eea06",
   "metadata": {},
   "source": [
    "## 2. How does each platform manage movies?"
   ]
  },
  {
   "cell_type": "markdown",
   "id": "67859b65-cd29-40ae-840c-f4ed097e279c",
   "metadata": {},
   "source": [
    "Now, we are going to crate different charts for each platforms. We´ll do that with a for loop iterating over each platform."
   ]
  },
  {
   "cell_type": "code",
   "execution_count": 14,
   "id": "bd7f3af7-3df3-479b-afb3-86f8f6ac7672",
   "metadata": {},
   "outputs": [
    {
     "name": "stdout",
     "output_type": "stream",
     "text": [
      "2023-09-03 13:31 | INFO | Starting execution: \u001b[4mset_board\u001b[0m\n",
      "2023-09-03 13:31 | INFO | Retrieved board Platforms with id 82e2a00d-91cb-40f4-bdab-fa48ca5f1b88\n",
      "2023-09-03 13:31 | INFO | Finished execution: \u001b[4mset_board\u001b[0m, elapsed time: 118.58 ms\n",
      "2023-09-03 13:31 | INFO | Starting execution: \u001b[4mset_menu_path\u001b[0m\n",
      "2023-09-03 13:31 | INFO | Created menu path Comparison with id c59da776-6451-4189-a149-e7e4d8053334\n",
      "2023-09-03 13:31 | INFO | Menu path Comparison added to board Platforms\n",
      "2023-09-03 13:31 | INFO | Finished execution: \u001b[4mset_menu_path\u001b[0m, elapsed time: 1636.99 ms\n"
     ]
    }
   ],
   "source": [
    "s.set_board('Platforms')\n",
    "s.set_menu_path('Comparison')"
   ]
  },
  {
   "cell_type": "code",
   "execution_count": 18,
   "id": "e8adedac-2756-490e-bcc7-ffc5b647d932",
   "metadata": {
    "collapsed": true,
    "jupyter": {
     "outputs_hidden": true
    },
    "tags": []
   },
   "outputs": [
    {
     "name": "stdout",
     "output_type": "stream",
     "text": [
      "2023-09-03 13:37 | INFO | Starting execution: \u001b[4mhtml\u001b[0m\n",
      "2023-09-03 13:37 | INFO | No changes needed for HTML at 0\n",
      "2023-09-03 13:37 | INFO | Finished execution: \u001b[4mhtml\u001b[0m, elapsed time: 2.53 ms\n",
      "2023-09-03 13:37 | INFO | Starting execution: \u001b[4mindicator\u001b[0m\n",
      "2023-09-03 13:37 | INFO | Starting execution: \u001b[4mcreate indicator\u001b[0m\n",
      "2023-09-03 13:37 | INFO | No changes needed for Indicator at 1\n",
      "2023-09-03 13:37 | INFO | Finished execution: \u001b[4mcreate indicator\u001b[0m, elapsed time: 10.21 ms\n",
      "2023-09-03 13:37 | INFO | Finished execution: \u001b[4mindicator\u001b[0m, elapsed time: 123.21 ms\n",
      "2023-09-03 13:37 | INFO | Starting execution: \u001b[4mspeed_gauge_chart\u001b[0m\n",
      "2023-09-03 13:37 | INFO | Deleted data set with name 48d1b998-cf8c-4c07-a512-f2376e0eb485\n",
      "2023-09-03 13:37 | INFO | Created data set with id 4a3e5e2f-1bda-411c-83c5-21f5b677a08f and name 48d1b998-cf8c-4c07-a512-f2376e0eb485\n",
      "2023-09-03 13:37 | INFO | Deleted 0 component data set links from component at 2\n",
      "2023-09-03 13:37 | INFO | Created 1 component data set links for component 2\n",
      "2023-09-03 13:37 | INFO | Updated EChart at 2\n",
      "2023-09-03 13:37 | INFO | Finished execution: \u001b[4mspeed_gauge_chart\u001b[0m, elapsed time: 9844.78 ms\n",
      "2023-09-03 13:37 | INFO | Starting execution: \u001b[4mspeed_gauge_chart\u001b[0m\n",
      "2023-09-03 13:37 | INFO | Deleted data set with name 8954534f-256e-4ebe-a4b4-892ad627149e\n",
      "2023-09-03 13:37 | INFO | Created data set with id 2ca11912-74ed-4940-8049-019b4d5e6bc4 and name 8954534f-256e-4ebe-a4b4-892ad627149e\n",
      "2023-09-03 13:37 | INFO | Deleted 0 component data set links from component at 3\n",
      "2023-09-03 13:37 | INFO | Created 1 component data set links for component 3\n",
      "2023-09-03 13:37 | INFO | Updated EChart at 3\n",
      "2023-09-03 13:37 | INFO | Finished execution: \u001b[4mspeed_gauge_chart\u001b[0m, elapsed time: 5351.91 ms\n",
      "2023-09-03 13:37 | INFO | Starting execution: \u001b[4mpie_chart\u001b[0m\n",
      "2023-09-03 13:37 | INFO | Deleted data set with name 8ff57798-c76b-400d-b9fb-c53a826cd616\n",
      "2023-09-03 13:37 | INFO | Created data set with id 48577435-71cd-4721-9bd9-a613a02e29c5 and name 8ff57798-c76b-400d-b9fb-c53a826cd616\n",
      "2023-09-03 13:37 | INFO | Deleted 0 component data set links from component at 4\n",
      "2023-09-03 13:37 | INFO | Created 1 component data set links for component 4\n",
      "2023-09-03 13:37 | INFO | Updated EChart at 4\n",
      "2023-09-03 13:37 | INFO | Finished execution: \u001b[4mpie_chart\u001b[0m, elapsed time: 5029.25 ms\n",
      "2023-09-03 13:37 | INFO | Starting execution: \u001b[4mpie_chart\u001b[0m\n",
      "2023-09-03 13:37 | INFO | Deleted data set with name baa751ab-55ea-478c-9532-b2c63615982b\n",
      "2023-09-03 13:37 | INFO | Created data set with id ffc6b381-ac12-4542-8c2e-8612fdf75c80 and name baa751ab-55ea-478c-9532-b2c63615982b\n",
      "2023-09-03 13:37 | INFO | Deleted 0 component data set links from component at 5\n",
      "2023-09-03 13:37 | INFO | Created 1 component data set links for component 5\n",
      "2023-09-03 13:37 | INFO | Updated EChart at 5\n",
      "2023-09-03 13:37 | INFO | Finished execution: \u001b[4mpie_chart\u001b[0m, elapsed time: 5072.31 ms\n",
      "2023-09-03 13:37 | INFO | Starting execution: \u001b[4mhtml\u001b[0m\n",
      "2023-09-03 13:37 | INFO | No changes needed for HTML at 6\n",
      "2023-09-03 13:37 | INFO | Finished execution: \u001b[4mhtml\u001b[0m, elapsed time: 2.84 ms\n",
      "2023-09-03 13:37 | INFO | Starting execution: \u001b[4mindicator\u001b[0m\n",
      "2023-09-03 13:37 | INFO | Starting execution: \u001b[4mcreate indicator\u001b[0m\n",
      "2023-09-03 13:37 | INFO | No changes needed for Indicator at 7\n",
      "2023-09-03 13:37 | INFO | Finished execution: \u001b[4mcreate indicator\u001b[0m, elapsed time: 5.56 ms\n",
      "2023-09-03 13:37 | INFO | Finished execution: \u001b[4mindicator\u001b[0m, elapsed time: 123.28 ms\n",
      "2023-09-03 13:37 | INFO | Starting execution: \u001b[4mspeed_gauge_chart\u001b[0m\n",
      "2023-09-03 13:37 | INFO | Deleted data set with name a6e42586-942b-4dc8-85d8-24b2f2a4e929\n",
      "2023-09-03 13:37 | INFO | Created data set with id 8fa55f87-ac57-4a89-85e7-4926c3ff32aa and name a6e42586-942b-4dc8-85d8-24b2f2a4e929\n",
      "2023-09-03 13:37 | INFO | Deleted 0 component data set links from component at 8\n",
      "2023-09-03 13:37 | INFO | Created 1 component data set links for component 8\n",
      "2023-09-03 13:37 | INFO | Updated EChart at 8\n",
      "2023-09-03 13:37 | INFO | Finished execution: \u001b[4mspeed_gauge_chart\u001b[0m, elapsed time: 4823.08 ms\n",
      "2023-09-03 13:37 | INFO | Starting execution: \u001b[4mspeed_gauge_chart\u001b[0m\n",
      "2023-09-03 13:37 | INFO | Deleted data set with name 7103e8e2-83c1-4339-abce-ba565348282b\n",
      "2023-09-03 13:37 | INFO | Created data set with id 967a3757-a09e-4fca-959d-276b9115767f and name 7103e8e2-83c1-4339-abce-ba565348282b\n",
      "2023-09-03 13:37 | INFO | Deleted 0 component data set links from component at 9\n",
      "2023-09-03 13:37 | INFO | Created 1 component data set links for component 9\n",
      "2023-09-03 13:37 | INFO | Updated EChart at 9\n",
      "2023-09-03 13:37 | INFO | Finished execution: \u001b[4mspeed_gauge_chart\u001b[0m, elapsed time: 4592.19 ms\n",
      "2023-09-03 13:37 | INFO | Starting execution: \u001b[4mpie_chart\u001b[0m\n",
      "2023-09-03 13:37 | INFO | Deleted data set with name b69b46f5-fb2f-4bf1-b95e-388e9e58e609\n",
      "2023-09-03 13:38 | INFO | Created data set with id d27a0b12-9132-46f2-86e8-acea1192c4a3 and name b69b46f5-fb2f-4bf1-b95e-388e9e58e609\n",
      "2023-09-03 13:38 | INFO | Deleted 0 component data set links from component at 10\n",
      "2023-09-03 13:38 | INFO | Created 1 component data set links for component 10\n",
      "2023-09-03 13:38 | INFO | Updated EChart at 10\n",
      "2023-09-03 13:38 | INFO | Finished execution: \u001b[4mpie_chart\u001b[0m, elapsed time: 3896.37 ms\n",
      "2023-09-03 13:38 | INFO | Starting execution: \u001b[4mpie_chart\u001b[0m\n",
      "2023-09-03 13:38 | INFO | Deleted data set with name 95592983-0eb1-4877-8d4e-5fdfe23e4f50\n",
      "2023-09-03 13:38 | INFO | Created data set with id 40467c03-3d3b-4cdd-a281-14a1ba730168 and name 95592983-0eb1-4877-8d4e-5fdfe23e4f50\n",
      "2023-09-03 13:38 | INFO | Deleted 0 component data set links from component at 11\n",
      "2023-09-03 13:38 | INFO | Created 1 component data set links for component 11\n",
      "2023-09-03 13:38 | INFO | Updated EChart at 11\n",
      "2023-09-03 13:38 | INFO | Finished execution: \u001b[4mpie_chart\u001b[0m, elapsed time: 5634.12 ms\n",
      "2023-09-03 13:38 | INFO | Starting execution: \u001b[4mhtml\u001b[0m\n",
      "2023-09-03 13:38 | INFO | No changes needed for HTML at 12\n",
      "2023-09-03 13:38 | INFO | Finished execution: \u001b[4mhtml\u001b[0m, elapsed time: 4.77 ms\n",
      "2023-09-03 13:38 | INFO | Starting execution: \u001b[4mindicator\u001b[0m\n",
      "2023-09-03 13:38 | INFO | Starting execution: \u001b[4mcreate indicator\u001b[0m\n",
      "2023-09-03 13:38 | INFO | No changes needed for Indicator at 13\n",
      "2023-09-03 13:38 | INFO | Finished execution: \u001b[4mcreate indicator\u001b[0m, elapsed time: 5.74 ms\n",
      "2023-09-03 13:38 | INFO | Finished execution: \u001b[4mindicator\u001b[0m, elapsed time: 123.02 ms\n",
      "2023-09-03 13:38 | INFO | Starting execution: \u001b[4mspeed_gauge_chart\u001b[0m\n",
      "2023-09-03 13:38 | INFO | Deleted data set with name 57fccddc-ce9d-4262-852c-9035566d4b3f\n",
      "2023-09-03 13:38 | INFO | Created data set with id b1fb5964-0b67-4d86-b851-caaa198ac8ff and name 57fccddc-ce9d-4262-852c-9035566d4b3f\n",
      "2023-09-03 13:38 | INFO | Deleted 0 component data set links from component at 14\n",
      "2023-09-03 13:38 | INFO | Created 1 component data set links for component 14\n",
      "2023-09-03 13:38 | INFO | Updated EChart at 14\n",
      "2023-09-03 13:38 | INFO | Finished execution: \u001b[4mspeed_gauge_chart\u001b[0m, elapsed time: 4404.20 ms\n",
      "2023-09-03 13:38 | INFO | Starting execution: \u001b[4mspeed_gauge_chart\u001b[0m\n",
      "2023-09-03 13:38 | INFO | Deleted data set with name 71072eab-44e0-4560-8d4c-4fd7ce72c176\n",
      "2023-09-03 13:38 | INFO | Created data set with id 403f9d31-3a94-4f2a-aa82-677b03240c08 and name 71072eab-44e0-4560-8d4c-4fd7ce72c176\n",
      "2023-09-03 13:38 | INFO | Deleted 0 component data set links from component at 15\n",
      "2023-09-03 13:38 | INFO | Created 1 component data set links for component 15\n",
      "2023-09-03 13:38 | INFO | Updated EChart at 15\n",
      "2023-09-03 13:38 | INFO | Finished execution: \u001b[4mspeed_gauge_chart\u001b[0m, elapsed time: 4231.92 ms\n",
      "2023-09-03 13:38 | INFO | Starting execution: \u001b[4mpie_chart\u001b[0m\n",
      "2023-09-03 13:38 | INFO | Deleted data set with name 60ce1dd0-8ba7-448a-ab33-269137384567\n",
      "2023-09-03 13:38 | INFO | Created data set with id 9ef33244-d188-4d70-9f19-2f726ea98757 and name 60ce1dd0-8ba7-448a-ab33-269137384567\n",
      "2023-09-03 13:38 | INFO | Deleted 0 component data set links from component at 16\n",
      "2023-09-03 13:38 | INFO | Created 1 component data set links for component 16\n",
      "2023-09-03 13:38 | INFO | Updated EChart at 16\n",
      "2023-09-03 13:38 | INFO | Finished execution: \u001b[4mpie_chart\u001b[0m, elapsed time: 4458.63 ms\n",
      "2023-09-03 13:38 | INFO | Starting execution: \u001b[4mpie_chart\u001b[0m\n",
      "2023-09-03 13:38 | INFO | Deleted data set with name eec8e9ee-c08e-4066-b8cb-611be6b9a9c6\n",
      "2023-09-03 13:38 | INFO | Created data set with id 69249df8-7e11-4239-ba4a-274596998647 and name eec8e9ee-c08e-4066-b8cb-611be6b9a9c6\n",
      "2023-09-03 13:38 | INFO | Deleted 0 component data set links from component at 17\n",
      "2023-09-03 13:38 | INFO | Created 1 component data set links for component 17\n",
      "2023-09-03 13:38 | INFO | Updated EChart at 17\n",
      "2023-09-03 13:38 | INFO | Finished execution: \u001b[4mpie_chart\u001b[0m, elapsed time: 4536.77 ms\n",
      "2023-09-03 13:38 | INFO | Starting execution: \u001b[4mhtml\u001b[0m\n",
      "2023-09-03 13:38 | INFO | No changes needed for HTML at 18\n",
      "2023-09-03 13:38 | INFO | Finished execution: \u001b[4mhtml\u001b[0m, elapsed time: 2.20 ms\n",
      "2023-09-03 13:38 | INFO | Starting execution: \u001b[4mindicator\u001b[0m\n",
      "2023-09-03 13:38 | INFO | Starting execution: \u001b[4mcreate indicator\u001b[0m\n",
      "2023-09-03 13:38 | INFO | No changes needed for Indicator at 19\n",
      "2023-09-03 13:38 | INFO | Finished execution: \u001b[4mcreate indicator\u001b[0m, elapsed time: 5.71 ms\n",
      "2023-09-03 13:38 | INFO | Finished execution: \u001b[4mindicator\u001b[0m, elapsed time: 121.89 ms\n",
      "2023-09-03 13:38 | INFO | Starting execution: \u001b[4mspeed_gauge_chart\u001b[0m\n",
      "2023-09-03 13:38 | INFO | Deleted data set with name 2ed2548d-d116-4ba0-95e8-8cced0ec6a2f\n",
      "2023-09-03 13:38 | INFO | Created data set with id acb3e0ad-8714-4d6f-9eb4-09e8fd02f96d and name 2ed2548d-d116-4ba0-95e8-8cced0ec6a2f\n",
      "2023-09-03 13:38 | INFO | Deleted 0 component data set links from component at 20\n",
      "2023-09-03 13:38 | INFO | Created 1 component data set links for component 20\n",
      "2023-09-03 13:38 | INFO | Updated EChart at 20\n",
      "2023-09-03 13:38 | INFO | Finished execution: \u001b[4mspeed_gauge_chart\u001b[0m, elapsed time: 4555.43 ms\n",
      "2023-09-03 13:38 | INFO | Starting execution: \u001b[4mspeed_gauge_chart\u001b[0m\n",
      "2023-09-03 13:38 | INFO | Deleted data set with name feb522e7-dfb3-4589-bb23-4b2985eacd54\n",
      "2023-09-03 13:38 | INFO | Created data set with id 3eadd515-c5ac-47b1-8f2a-f60198bc1e98 and name feb522e7-dfb3-4589-bb23-4b2985eacd54\n",
      "2023-09-03 13:38 | INFO | Deleted 0 component data set links from component at 21\n",
      "2023-09-03 13:38 | INFO | Created 1 component data set links for component 21\n",
      "2023-09-03 13:38 | INFO | Updated EChart at 21\n",
      "2023-09-03 13:38 | INFO | Finished execution: \u001b[4mspeed_gauge_chart\u001b[0m, elapsed time: 4263.56 ms\n",
      "2023-09-03 13:38 | INFO | Starting execution: \u001b[4mpie_chart\u001b[0m\n",
      "2023-09-03 13:38 | INFO | Deleted data set with name bd96e111-c93d-452a-a67c-f48f0aaaea7e\n",
      "2023-09-03 13:38 | INFO | Created data set with id 079080b5-59ee-4d8d-bad0-fd79a76445d4 and name bd96e111-c93d-452a-a67c-f48f0aaaea7e\n",
      "2023-09-03 13:38 | INFO | Deleted 0 component data set links from component at 22\n",
      "2023-09-03 13:38 | INFO | Created 1 component data set links for component 22\n",
      "2023-09-03 13:38 | INFO | Updated EChart at 22\n",
      "2023-09-03 13:38 | INFO | Finished execution: \u001b[4mpie_chart\u001b[0m, elapsed time: 3907.92 ms\n",
      "2023-09-03 13:38 | INFO | Starting execution: \u001b[4mpie_chart\u001b[0m\n",
      "2023-09-03 13:38 | INFO | Deleted data set with name ea79ed4e-7736-4dba-9a1c-7487c5cd1591\n",
      "2023-09-03 13:38 | INFO | Created data set with id c118eb08-7b1e-4ef8-af25-941d1cc58324 and name ea79ed4e-7736-4dba-9a1c-7487c5cd1591\n",
      "2023-09-03 13:38 | INFO | Deleted 0 component data set links from component at 23\n",
      "2023-09-03 13:38 | INFO | Created 1 component data set links for component 23\n",
      "2023-09-03 13:38 | INFO | Updated EChart at 23\n",
      "2023-09-03 13:38 | INFO | Finished execution: \u001b[4mpie_chart\u001b[0m, elapsed time: 4006.57 ms\n",
      "2023-09-03 13:38 | INFO | Starting execution: \u001b[4mhtml\u001b[0m\n",
      "2023-09-03 13:38 | INFO | No changes needed for HTML at 24\n",
      "2023-09-03 13:38 | INFO | Finished execution: \u001b[4mhtml\u001b[0m, elapsed time: 3.86 ms\n",
      "2023-09-03 13:38 | INFO | Starting execution: \u001b[4mindicator\u001b[0m\n",
      "2023-09-03 13:38 | INFO | Starting execution: \u001b[4mcreate indicator\u001b[0m\n",
      "2023-09-03 13:38 | INFO | No changes needed for Indicator at 25\n",
      "2023-09-03 13:38 | INFO | Finished execution: \u001b[4mcreate indicator\u001b[0m, elapsed time: 1.80 ms\n",
      "2023-09-03 13:38 | INFO | Finished execution: \u001b[4mindicator\u001b[0m, elapsed time: 108.51 ms\n",
      "2023-09-03 13:38 | INFO | Starting execution: \u001b[4mspeed_gauge_chart\u001b[0m\n",
      "2023-09-03 13:38 | INFO | Deleted data set with name ba3d7a84-1e24-4507-b5a6-431e91275753\n",
      "2023-09-03 13:38 | INFO | Created data set with id 053df974-88e7-4f20-8f52-0cc7f50c8662 and name ba3d7a84-1e24-4507-b5a6-431e91275753\n",
      "2023-09-03 13:38 | INFO | Deleted 0 component data set links from component at 26\n",
      "2023-09-03 13:38 | INFO | Created 1 component data set links for component 26\n",
      "2023-09-03 13:38 | INFO | Updated EChart at 26\n",
      "2023-09-03 13:38 | INFO | Finished execution: \u001b[4mspeed_gauge_chart\u001b[0m, elapsed time: 4066.99 ms\n",
      "2023-09-03 13:38 | INFO | Starting execution: \u001b[4mspeed_gauge_chart\u001b[0m\n",
      "2023-09-03 13:38 | INFO | Deleted data set with name 533deded-8432-4f62-871e-9df03331f5ff\n",
      "2023-09-03 13:38 | INFO | Created data set with id 743d9071-d553-443f-808a-4fb5f0b8f0ce and name 533deded-8432-4f62-871e-9df03331f5ff\n",
      "2023-09-03 13:38 | INFO | Deleted 0 component data set links from component at 27\n",
      "2023-09-03 13:38 | INFO | Created 1 component data set links for component 27\n",
      "2023-09-03 13:38 | INFO | Updated EChart at 27\n",
      "2023-09-03 13:38 | INFO | Finished execution: \u001b[4mspeed_gauge_chart\u001b[0m, elapsed time: 3968.61 ms\n",
      "2023-09-03 13:38 | INFO | Starting execution: \u001b[4mpie_chart\u001b[0m\n",
      "2023-09-03 13:38 | INFO | Deleted data set with name 0f8592b0-214d-4c3a-bea2-e2ae29640c96\n",
      "2023-09-03 13:38 | INFO | Created data set with id c3332304-488a-4718-86de-18bc89ee49d4 and name 0f8592b0-214d-4c3a-bea2-e2ae29640c96\n",
      "2023-09-03 13:38 | INFO | Deleted 0 component data set links from component at 28\n",
      "2023-09-03 13:38 | INFO | Created 1 component data set links for component 28\n",
      "2023-09-03 13:38 | INFO | Updated EChart at 28\n",
      "2023-09-03 13:38 | INFO | Finished execution: \u001b[4mpie_chart\u001b[0m, elapsed time: 3976.19 ms\n",
      "2023-09-03 13:38 | INFO | Starting execution: \u001b[4mpie_chart\u001b[0m\n",
      "2023-09-03 13:38 | INFO | Deleted data set with name ef6cd337-3529-455b-b849-a60a09c2fd03\n",
      "2023-09-03 13:38 | INFO | Created data set with id 9fb51697-2830-45a4-935c-fbaba8a5737e and name ef6cd337-3529-455b-b849-a60a09c2fd03\n",
      "2023-09-03 13:38 | INFO | Deleted 0 component data set links from component at 29\n",
      "2023-09-03 13:38 | INFO | Created 1 component data set links for component 29\n",
      "2023-09-03 13:38 | INFO | Updated EChart at 29\n",
      "2023-09-03 13:38 | INFO | Finished execution: \u001b[4mpie_chart\u001b[0m, elapsed time: 4028.75 ms\n"
     ]
    }
   ],
   "source": [
    "platforms = sorted(df_titles.streaming.unique())\n",
    "order = [0 if i == 0 else 6*i for i in range(len(platforms))]     #This is for organising the charts later on\n",
    "colors_dict = {'amazon':'#00A8E1', 'disney':'#0063E1', 'hbo':'#941de8', 'hulu':'#1CE783', 'netflix':'#E50914'}     #HEX color of each platform\n",
    "\n",
    "for i, platform in zip(order, platforms):\n",
    "    # Get number of movies on the platform\n",
    "    df_platform_movies = df_titles[(df_titles['streaming'] == platform) & (df_titles['type'] == 'MOVIE')]\n",
    "    num_platform_movies = df_platform_movies.shape[0]\n",
    "    \n",
    "    # Mean movie scores\n",
    "    mean_score_imdb = round(df_platform_movies['imdb_score'].mean(), 1)\n",
    "    mean_score_tmdb = round(df_platform_movies['tmdb_score'].mean(), 1)\n",
    "    \n",
    "    # Get the genres distribution\n",
    "    platform_genres_data = utils.get_platform_genres_data(df_platform_movies)\n",
    "    \n",
    "    # Get the countries distribution\n",
    "    platform_countries_data = utils.get_platform_countries_data(df_platform_movies)\n",
    "    \n",
    "    # Upload the different charts\n",
    "    # Platform title\n",
    "    html = utils.html_style(platform)\n",
    "    s.plt.html(html, order=i)\n",
    "    \n",
    "    # Number of movies indicator\n",
    "    indicator = {\n",
    "        'title':'Number of movies',\n",
    "        'value':num_platform_movies,\n",
    "        \"align\" : 'left',\n",
    "        'variant':'topColor'\n",
    "    }\n",
    "    s.plt.indicator(\n",
    "        order=i+1,\n",
    "        data=indicator,\n",
    "        rows_size=2, cols_size=3,\n",
    "        vertical=True\n",
    "    )\n",
    "\n",
    "    # Movies scores\n",
    "    s.plt.speed_gauge(\n",
    "        title='IMDB Movies Mean Score', name='',\n",
    "        value=mean_score_imdb, order=i+2,\n",
    "        min_value=0, max_value=10,\n",
    "        rows_size=2, cols_size=3,\n",
    "        option_modifications={'color':colors_dict[platform]}\n",
    "    )\n",
    "\n",
    "    s.plt.speed_gauge(\n",
    "        title='TMDB Movies Mean Score', name='',\n",
    "        value=mean_score_tmdb, order=i+3,\n",
    "        min_value=0, max_value=10,\n",
    "        rows_size=2, cols_size=3,\n",
    "        option_modifications={'color':colors_dict[platform]}\n",
    "    )\n",
    "    \n",
    "    # Genres pie\n",
    "    s.plt.pie(\n",
    "        data=platform_genres_data, names='genre', values='value',\n",
    "        order=i+4, rows_size=2, cols_size=6,\n",
    "        title='Movies per genre'\n",
    "    )\n",
    "\n",
    "    #Countries pie\n",
    "    s.plt.pie(\n",
    "        data=platform_countries_data, names='country', values='value',\n",
    "        order=i+5, rows_size=2, cols_size=6,\n",
    "        title='Movies per country'\n",
    "    )"
   ]
  },
  {
   "cell_type": "markdown",
   "id": "c0a9223e-da3e-4c4a-b1a8-2c07764dd546",
   "metadata": {},
   "source": [
    "Result:"
   ]
  },
  {
   "cell_type": "markdown",
   "id": "524fa284-65e5-4679-8465-894bd99c1c0f",
   "metadata": {},
   "source": [
    "![platforms_1](img/platforms_1.png)\n",
    "![platforms_2](img/platforms_2.png)"
   ]
  },
  {
   "cell_type": "markdown",
   "id": "1aa2cbc7-e753-4bc4-b977-bb2328e041ce",
   "metadata": {},
   "source": [
    "## 3. What impact do actors or directors have on the evaluation of movies?"
   ]
  },
  {
   "cell_type": "markdown",
   "id": "87c1f9a5-d545-4d28-a2d0-507a824e4ad4",
   "metadata": {},
   "source": [
    "To find out what impact each variable has on the evaluation of a movie, we are going to develop a ML model that will be able to tell us the weight of each variable"
   ]
  },
  {
   "cell_type": "code",
   "execution_count": 28,
   "id": "f85e811f-8967-4dab-9df0-20672e0bb855",
   "metadata": {},
   "outputs": [],
   "source": [
    "# First merge both dataframes so we have all the information for each name\n",
    "df_merged = pd.merge(left=df_titles, right=df_credits, on='id', how='inner').reset_index(drop=True)\n",
    "df_merged_mov = df_merged[df_merged['type'] == 'MOVIE'].reset_index(drop=True)\n",
    "\n",
    "# Drop those columns that will not actually provide valuable information for the target variable\n",
    "df_model = df_merged_mov.drop(['id','description','age_certification','seasons', 'imdb_id','imdb_votes','tmdb_popularity','tmdb_score','person_id','title','type','character'],\n",
    "                              axis=1)"
   ]
  },
  {
   "cell_type": "markdown",
   "id": "4a5351d4-3198-4442-9b93-88d2bae7151c",
   "metadata": {},
   "source": [
    "### Feature engineering"
   ]
  },
  {
   "cell_type": "markdown",
   "id": "5fb256fa-649e-4305-929c-a96f296929d6",
   "metadata": {},
   "source": [
    "#### Step 1: create runtime groups of 30 mins"
   ]
  },
  {
   "cell_type": "code",
   "execution_count": 29,
   "id": "efdf22fd-d2a0-4675-9ce6-6ee97a7e7224",
   "metadata": {},
   "outputs": [
    {
     "name": "stdout",
     "output_type": "stream",
     "text": [
      "Max duration:  328\n",
      "Min duration:  0\n"
     ]
    }
   ],
   "source": [
    "print('Max duration: ',df_merged_mov.runtime.max())\n",
    "print('Min duration: ',df_merged_mov.runtime.min())"
   ]
  },
  {
   "cell_type": "code",
   "execution_count": 30,
   "id": "9f7c6759-fdd4-4f4f-b9fe-7b22df890392",
   "metadata": {
    "tags": []
   },
   "outputs": [
    {
     "data": {
      "text/plain": [
       "Counter({'120_150': 68027,\n",
       "         '90_120': 162531,\n",
       "         '60_90': 79054,\n",
       "         '30_60': 11108,\n",
       "         '>=180': 3391,\n",
       "         '0_30': 3581})"
      ]
     },
     "execution_count": 30,
     "metadata": {},
     "output_type": "execute_result"
    }
   ],
   "source": [
    "runtime_groups = utils.create_runtime_groups(df_model)\n",
    "df_model['runtime_groups'] = runtime_groups\n",
    "\n",
    "Counter(runtime_groups)"
   ]
  },
  {
   "cell_type": "markdown",
   "id": "a6075d58-cbf6-4850-9e29-56cdb07ec6a8",
   "metadata": {},
   "source": [
    "#### Step 2: create dummies columns for main countries"
   ]
  },
  {
   "cell_type": "code",
   "execution_count": 31,
   "id": "f6ca2cc1-11cf-4522-bb8f-a980e5b24eee",
   "metadata": {},
   "outputs": [
    {
     "data": {
      "text/plain": [
       "['US', 'GB', 'IN', 'CA', 'FR', 'DE', 'JP', 'ES', 'IT', 'AU']"
      ]
     },
     "execution_count": 31,
     "metadata": {},
     "output_type": "execute_result"
    }
   ],
   "source": [
    "top10_countries = utils.top10_countries(df_model)\n",
    "top10_countries"
   ]
  },
  {
   "cell_type": "code",
   "execution_count": 32,
   "id": "640fed68-5891-4904-ae92-8b5bbadabf18",
   "metadata": {
    "tags": []
   },
   "outputs": [],
   "source": [
    "# Create a dictionary to save each country appearance\n",
    "dummies_dict_c = utils.countries_dummy_dict(df_model, top10_countries)\n",
    "\n",
    "# Add the new dummies columns to the dataframe\n",
    "for new_col_c in dummies_dict_c.keys():\n",
    "    df_model[new_col_c] = dummies_dict_c[new_col_c]"
   ]
  },
  {
   "cell_type": "markdown",
   "id": "9b336e11-ee51-4f84-a8f8-3dfcb6a06f47",
   "metadata": {},
   "source": [
    "#### Step 3: create dummies columns for main genres"
   ]
  },
  {
   "cell_type": "code",
   "execution_count": 33,
   "id": "82715020-ddae-4be0-85d0-d752da721993",
   "metadata": {},
   "outputs": [
    {
     "data": {
      "text/plain": [
       "['drama',\n",
       " 'comedy',\n",
       " 'thriller',\n",
       " 'action',\n",
       " 'romance',\n",
       " 'crime',\n",
       " 'family',\n",
       " 'fantasy',\n",
       " 'european',\n",
       " 'scifi']"
      ]
     },
     "execution_count": 33,
     "metadata": {},
     "output_type": "execute_result"
    }
   ],
   "source": [
    "top10_genres = utils.top10_genres(df_model)\n",
    "top10_genres"
   ]
  },
  {
   "cell_type": "code",
   "execution_count": 34,
   "id": "57ab1ee4-87b9-4007-91d3-6f80ac422f20",
   "metadata": {},
   "outputs": [],
   "source": [
    "# Create a dictionary to save each genre appearance\n",
    "dummies_dict_g = utils.genres_dummy_dict(df_model, top10_genres)\n",
    "\n",
    "# Add the new dummies columns to the dataframe\n",
    "for new_col_g in dummies_dict_g.keys():\n",
    "    df_model[new_col_g] = dummies_dict_g[new_col_g]"
   ]
  },
  {
   "cell_type": "markdown",
   "id": "f00e78d4-5f94-4b29-882b-ec9e4b012c8b",
   "metadata": {},
   "source": [
    "#### Step 3: go for the model"
   ]
  },
  {
   "cell_type": "code",
   "execution_count": 71,
   "id": "edfa90b7-234b-46a0-80aa-30cdb2c66bc5",
   "metadata": {
    "tags": []
   },
   "outputs": [],
   "source": [
    "df_model_clean = df_model.copy()\n",
    "# Remove more columns and rows with NA on IMDB column\n",
    "df_model_clean.drop(['runtime', 'genres', 'production_countries', 'streaming','role'],\n",
    "                    inplace=True,\n",
    "                    axis=1)\n",
    "\n",
    "df_model_clean.dropna(subset=['imdb_score'],\n",
    "                      inplace=True)"
   ]
  },
  {
   "cell_type": "code",
   "execution_count": 72,
   "id": "86331a15-f203-48e5-878d-048eaf3dcc6b",
   "metadata": {},
   "outputs": [],
   "source": [
    "# Label encoder\n",
    "encoder = LabelEncoder()\n",
    "\n",
    "columns_encoder = ['runtime_groups', 'name']\n",
    "df_model_clean[columns_encoder] = df_model_clean[columns_encoder].apply(encoder.fit_transform)"
   ]
  },
  {
   "cell_type": "code",
   "execution_count": 73,
   "id": "20a83c89-fb65-47ce-b2fa-9832f1e4f942",
   "metadata": {},
   "outputs": [],
   "source": [
    "# Set the target and the explanatory variables\n",
    "X = df_model_clean.drop('imdb_score', axis = 1).values\n",
    "target = df_model_clean['imdb_score'].values"
   ]
  },
  {
   "cell_type": "code",
   "execution_count": 74,
   "id": "4fcbb024-b2b9-48e1-88d9-6f54df352550",
   "metadata": {},
   "outputs": [],
   "source": [
    "# Split data in train and test\n",
    "\n",
    "X_train, X_test, y_train, y_test = train_test_split(X, target, test_size = 0.3, random_state=42)"
   ]
  },
  {
   "cell_type": "code",
   "execution_count": 76,
   "id": "515afd89-f028-4204-a82e-425147a53f8e",
   "metadata": {},
   "outputs": [
    {
     "name": "stdout",
     "output_type": "stream",
     "text": [
      "r2:0.77:\n",
      "mse:0.31\n"
     ]
    }
   ],
   "source": [
    "# The Random Forest Regressor is the chosen algorithm  \n",
    "model = RandomForestRegressor(n_estimators=100)\n",
    "model.fit(X_train, y_train)\n",
    "y_pred = model.predict(X_test)\n",
    "\n",
    "r2 = r2_score(y_test, y_pred)\n",
    "mse = mean_squared_error(y_test, y_pred)\n",
    "\n",
    "print('r2', round(r2,2), '\\nmse', round(mse, 2), sep=':')"
   ]
  },
  {
   "cell_type": "code",
   "execution_count": 77,
   "id": "dd4a96b1-f099-44db-ac3c-5a8290814c3a",
   "metadata": {},
   "outputs": [
    {
     "name": "stdout",
     "output_type": "stream",
     "text": [
      "                  Feature  Importance\n",
      "0            release_year    0.262787\n",
      "1                    name    0.160481\n",
      "2          runtime_groups    0.126625\n",
      "14            dummy_drama    0.037102\n",
      "16         dummy_thriller    0.035506\n",
      "15           dummy_comedy    0.034541\n",
      "24     dummy_OTHER_genres    0.030982\n",
      "17           dummy_action    0.030287\n",
      "23            dummy_scifi    0.027013\n",
      "3                dummy_US    0.026665\n",
      "18          dummy_romance    0.026431\n",
      "20           dummy_family    0.025319\n",
      "19            dummy_crime    0.025154\n",
      "21          dummy_fantasy    0.024335\n",
      "5                dummy_IN    0.022143\n",
      "4                dummy_GB    0.019652\n",
      "13  dummy_OTHER_countries    0.019351\n",
      "6                dummy_CA    0.013771\n",
      "22         dummy_european    0.013656\n",
      "8                dummy_DE    0.008965\n",
      "7                dummy_FR    0.007323\n",
      "9                dummy_JP    0.006674\n",
      "11               dummy_IT    0.006408\n",
      "12               dummy_AU    0.004795\n",
      "10               dummy_ES    0.004033\n"
     ]
    }
   ],
   "source": [
    "# This algorithm has a feature that can tell us the importance (%) of each variable\n",
    "importances = model.feature_importances_\n",
    "\n",
    "feature_names = df_model_clean.drop('imdb_score', axis = 1).columns\n",
    "feature_importances = pd.DataFrame({'Feature': feature_names, 'Importance': importances})\n",
    "\n",
    "feature_importances = feature_importances.sort_values(by='Importance', ascending=False)\n",
    "\n",
    "print(feature_importances)"
   ]
  },
  {
   "cell_type": "code",
   "execution_count": 106,
   "id": "6c963522-40ea-4b08-be5c-a48cd5635688",
   "metadata": {},
   "outputs": [],
   "source": [
    "# Save trained model to a pickle\n",
    "import pickle\n",
    "\n",
    "with open('models/trained_model.pkl', 'wb') as f:\n",
    "    pickle.dump(model, f)\n",
    "\n",
    "# To load it\n",
    "# with open('models/trained_model', 'rb') as f:\n",
    "#     model = pickle.load(f)"
   ]
  },
  {
   "cell_type": "markdown",
   "id": "6691a1a3-d6a3-4e9b-bca9-7d517fe686b6",
   "metadata": {},
   "source": [
    "We could keep trying to improve the model: maybe removing variables, creating new ones, doing a gridsearch... The R2 and mse are not bad so let´s move on to the next part"
   ]
  },
  {
   "cell_type": "markdown",
   "id": "7beb7067-2c3c-4bbe-a4eb-56e2ebb375cc",
   "metadata": {},
   "source": [
    "### Create and upload the charts"
   ]
  },
  {
   "cell_type": "code",
   "execution_count": 78,
   "id": "a801474e-4aff-42c2-8740-905d0e4c9f82",
   "metadata": {},
   "outputs": [
    {
     "name": "stdout",
     "output_type": "stream",
     "text": [
      "2023-09-06 23:17 | INFO | Starting execution: \u001b[4mset_board\u001b[0m\n",
      "2023-09-06 23:17 | INFO | Created board IMDB Score with id 65983d28-c177-41d2-a497-47ceec3ab99e\n",
      "2023-09-06 23:17 | INFO | Finished execution: \u001b[4mset_board\u001b[0m, elapsed time: 3673.45 ms\n",
      "2023-09-06 23:17 | INFO | Starting execution: \u001b[4mset_menu_path\u001b[0m\n",
      "2023-09-06 23:17 | INFO | Created menu path Importances with id af9f65fa-099e-4265-93d4-785a7a9afb10\n",
      "2023-09-06 23:18 | INFO | Menu path Importances added to board IMDB Score\n",
      "2023-09-06 23:18 | INFO | Finished execution: \u001b[4mset_menu_path\u001b[0m, elapsed time: 5891.97 ms\n"
     ]
    }
   ],
   "source": [
    "s.set_board('IMDB Score')\n",
    "s.set_menu_path('Importances')"
   ]
  },
  {
   "cell_type": "code",
   "execution_count": 102,
   "id": "d0d0cb7b-23f4-42a4-b5b6-0639b289f6b1",
   "metadata": {},
   "outputs": [
    {
     "name": "stdout",
     "output_type": "stream",
     "text": [
      "2023-09-06 23:58 | INFO | Starting execution: \u001b[4mhtml\u001b[0m\n",
      "2023-09-06 23:58 | INFO | No changes needed for HTML at 0\n",
      "2023-09-06 23:58 | INFO | Finished execution: \u001b[4mhtml\u001b[0m, elapsed time: 1.84 ms\n",
      "2023-09-06 23:58 | INFO | Starting execution: \u001b[4mhtml\u001b[0m\n",
      "2023-09-06 23:58 | INFO | No changes needed for HTML at 1\n",
      "2023-09-06 23:58 | INFO | Finished execution: \u001b[4mhtml\u001b[0m, elapsed time: 1.74 ms\n",
      "2023-09-06 23:58 | INFO | Starting execution: \u001b[4mbar_chart\u001b[0m\n",
      "2023-09-06 23:58 | INFO | Deleted data set with name 17e1fecf-064e-4810-ade0-8a153d8d891f\n",
      "2023-09-06 23:58 | INFO | Created data set with id 2b3a9268-3daf-46c3-9211-de046d405fcc and name 17e1fecf-064e-4810-ade0-8a153d8d891f\n",
      "2023-09-06 23:58 | INFO | Deleted 0 component data set links from component at 2\n",
      "2023-09-06 23:58 | INFO | Created 2 component data set links for component 2\n",
      "2023-09-06 23:58 | INFO | Updated EChart at 2\n",
      "2023-09-06 23:58 | INFO | Finished execution: \u001b[4mbar_chart\u001b[0m, elapsed time: 5715.88 ms\n"
     ]
    }
   ],
   "source": [
    "# Indicators with the top 3 variables for imdb score prediction\n",
    "html_1 = '''<style>\n",
    "        .title-text {\n",
    "        font-family: Arial;\n",
    "        font-size: 50px;\n",
    "        color: #000000;\n",
    "        }\n",
    "        </style>\n",
    "        <p class=\"title-text\">TOP 3 Important Variables to Determine IMDB Movie Score</p>\n",
    "        '''\n",
    "s.plt.html(html_1, order=0)\n",
    "\n",
    "html_2 = '''<style>\n",
    "        .subtitle-text {\n",
    "        font-family: Arial;\n",
    "        font-size: 30px;\n",
    "        color: #000000;\n",
    "        }\n",
    "        </style>\n",
    "        <p class=\"subtitle-text\">1. Release year</p>\n",
    "        <br>\n",
    "        <p class=\"subtitle-text\">2. Cast & Director</p>\n",
    "        <br>\n",
    "        <p class=\"subtitle-text\">3. Run time</p>\n",
    "        '''\n",
    "s.plt.html(html_2, order=1)\n",
    "\n",
    "# Bar plot with importances\n",
    "data = [\n",
    "    {'var': 'Release Year', 'variable weight': round(feature_importances.Importance[0] * 100)},\n",
    "    {'var': 'Cast & Director', 'variable weight': round(feature_importances.Importance[1] * 100)},\n",
    "    {'var': 'Run time', 'variable weight': round(feature_importances.Importance[2] * 100)},\n",
    "    {'var': 'Genre: Drama', 'variable weight': round(feature_importances.Importance[3] * 100)},\n",
    "    {'var': 'Genre: Thriller', 'variable weight': round(feature_importances.Importance[4] * 100)},\n",
    "    {'var': 'Genre: Comedy', 'variable weight': round(feature_importances.Importance[5] * 100)},\n",
    "    {'var': 'Genre: Other', 'variable weight': round(feature_importances.Importance[6] * 100)},\n",
    "    {'var': 'Genre: Action', 'variable weight': round(feature_importances.Importance[7] * 100)},\n",
    "    {'var': 'Genre: Scifi', 'variable weight': round(feature_importances.Importance[8] * 100)},\n",
    "    {'var': 'Country: US', 'variable weight': round(feature_importances.Importance[9] * 100)},\n",
    "    {'var': 'Other variables', 'variable weight': round(feature_importances.Importance[10:].sum() * 100)}\n",
    "]\n",
    "\n",
    "s.plt.bar(\n",
    "    data=data, order=2,\n",
    "    x='var', rows_size=2, cols_size=12,\n",
    "    y_axis_name='Var importance (%)'\n",
    ")"
   ]
  },
  {
   "cell_type": "markdown",
   "id": "cfc7e3ed-c906-4bf1-b1a0-8ff63235ced1",
   "metadata": {},
   "source": [
    "Result:"
   ]
  },
  {
   "cell_type": "markdown",
   "id": "ef5bba0a-b075-40a3-ba95-5f5fad7c4ab6",
   "metadata": {},
   "source": [
    "![IMDB](img/imdb_score.png)"
   ]
  },
  {
   "cell_type": "markdown",
   "id": "b7b7e8c3-114d-43c4-9f1e-6825f588621e",
   "metadata": {},
   "source": [
    "In my personal opinion, Shimoku offers a wide variety of possibilities to show data, with different charts, indicators, layouts... With the possibility of automating all these processes through python. I found it quite interesting and I guess that if you spend more time to discover all its features you could end up with an even cooler dashboard."
   ]
  }
 ],
 "metadata": {
  "kernelspec": {
   "display_name": "Python 3 (ipykernel)",
   "language": "python",
   "name": "python3"
  },
  "language_info": {
   "codemirror_mode": {
    "name": "ipython",
    "version": 3
   },
   "file_extension": ".py",
   "mimetype": "text/x-python",
   "name": "python",
   "nbconvert_exporter": "python",
   "pygments_lexer": "ipython3",
   "version": "3.10.11"
  }
 },
 "nbformat": 4,
 "nbformat_minor": 5
}
